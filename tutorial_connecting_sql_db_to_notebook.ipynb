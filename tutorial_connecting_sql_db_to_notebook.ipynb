{
 "cells": [
  {
   "cell_type": "markdown",
   "metadata": {},
   "source": [
    "## Connecting a MySQL database to a python notebook \n",
    "The following tutorial was prepared by Elizabeth Widman. Feedback is welcome to <e.a.widman1@gmail.com>\n",
    "\n",
    "* [Step 1: Import and install mysql.connector](#first-bullet)\n",
    "* [Step 2 Connecting to your remote MySQL database](#second-bullet)\n",
    "* [Step 3. Pull data into a pandas dataframe](#third-bullet)\n",
    "* [Example of main program flow](#fourth-bullet)"
   ]
  },
  {
   "cell_type": "markdown",
   "metadata": {},
   "source": [
    "### Step 1: Import and install mysql.connector <a class=\"anchor\" id=\"first-bullet\"></a>\n",
    "\n",
    "I used the easy install pkg which allows you to just click through using a gui\n",
    "\n",
    "https://dev.mysql.com/doc/connector-python/en/\n",
    "\n",
    "Also you may need to do an install in your virtual environment\n",
    "\n",
    "I used:\n",
    "\n",
    "conda install -c anaconda mysql-connector-python=2.0.4"
   ]
  },
  {
   "cell_type": "markdown",
   "metadata": {},
   "source": [
    "### Step 2: Connecting to your remote MySQL database <a class=\"anchor\" id=\"second-bullet\"></a>\n",
    "\n",
    "Below is the script I used to connect to the remote database. You will need to tweak the script to include your username, password, port etc. Note: you must also be connected to the database in terminal. For example:\n",
    "\n",
    "mysql --login-path=insight < script_name.sql\n",
    "\n",
    "You need to modify the code above to reflect your specific database connection. Also the database maintainer needs to add your public ssh key to their database permissions.\n",
    "\n",
    "Note: After some time the remote connection may time out so if things are not working correctly in your notebook be sure to check you connection in terminal."
   ]
  },
  {
   "cell_type": "code",
   "execution_count": 1,
   "metadata": {
    "collapsed": true
   },
   "outputs": [],
   "source": [
    "#Import mysql.connector into notebook\n",
    "import mysql.connector\n",
    "import pandas as pd"
   ]
  },
  {
   "cell_type": "code",
   "execution_count": 2,
   "metadata": {
    "collapsed": true
   },
   "outputs": [],
   "source": [
    "# Function connects to MySQL database\n",
    "def connectMySQL(db_name):\n",
    "    #configurations of your system\n",
    "    config = {\n",
    "            'user': 'insight',\n",
    "            'password': 'insight',\n",
    "            'host': '127.0.0.1',\n",
    "            'port': '3307',\n",
    "            'database': db_name\n",
    "            }\n",
    "    \n",
    "\n",
    "    # open database connection\n",
    "    cnx = None\n",
    "    try:\n",
    "        cnx = mysql.connector.connect(**config)    \n",
    "    except mysql.connector.Error as err:\n",
    "        if err.errno == mysql.connector.errorcode.ER_ACCESS_DENIED_ERROR:\n",
    "            print(\"Something is wrong with your user name or password\")\n",
    "        elif err.errno == mysql.connector.errorcode.ER_BAD_DB_ERROR:\n",
    "            print(\"Database does not exist\")\n",
    "        else:\n",
    "            print(err)\n",
    "        raise\n",
    "    \n",
    "    print 'Connected to {} database'.format(db_name)\n",
    "    return cnx"
   ]
  },
  {
   "cell_type": "markdown",
   "metadata": {},
   "source": [
    "### Step 3. Pull data into a pandas dataframe  <a class=\"anchor\" id=\"third-bullet\"></a>"
   ]
  },
  {
   "cell_type": "code",
   "execution_count": 3,
   "metadata": {
    "collapsed": true
   },
   "outputs": [],
   "source": [
    "#Function that takes a table in a cursor object (which is a connection to the entire database)\n",
    "#selects a table from the database and pulls it into a pandas dataframe with column names\n",
    "\n",
    "def df_with_headers(cur, table_name):\n",
    "    #Run a SQL command on cursor object\n",
    "    do_this=\"DESCRIBE {}\".format(table_name)\n",
    "    cur.execute(do_this)\n",
    "    \n",
    "    #The method .fetchall() fetches all (or all remaining) rows of a query result set \n",
    "    #and returns a list of tuples. \n",
    "    #If no more rows are available, it returns an empty list.\n",
    "    \n",
    "    #get the column names of a table and character info, primary key (yes/no), default value\n",
    "    stuff = cur.fetchall()\n",
    "    #turn it into a pd dataframe\n",
    "    df=pd.DataFrame(list(stuff))\n",
    "    \n",
    "    #Turn first column into pd vector of colnames\n",
    "    col_names=[str(x) for x in list(df[0])]\n",
    "    #turn that into a list\n",
    "    col_list=\",\".join(col_names)\n",
    "    \n",
    "    #Create an sql statement using the list of column names\n",
    "    do_this2=\"SELECT {} FROM {}\".format(col_list,table_name)\n",
    "    \n",
    "    #run the sql statement on the cursor object\n",
    "    cur.execute(do_this2)\n",
    "    \n",
    "    #fetch remaining rows and return as tuples\n",
    "    stuff2 = cur.fetchall()\n",
    "    \n",
    "    df2=pd.DataFrame(list(stuff2),columns=col_names)\n",
    "    \n",
    "    return df2"
   ]
  },
  {
   "cell_type": "markdown",
   "metadata": {},
   "source": [
    "### Example of main program flow  <a class=\"anchor\" id=\"fourth-bullet\"></a>"
   ]
  },
  {
   "cell_type": "code",
   "execution_count": 6,
   "metadata": {
    "collapsed": false
   },
   "outputs": [],
   "source": [
    "# Example of main program flow \n",
    "\n",
    "#cnx is a MySQLConnection object and connects to customer database\n",
    "cnx=connectMySQL('database_name')\n",
    "\n",
    "#.cursor() instantiates objects that can execute operations such as SQL statements. \n",
    "# Cursor objects interact with the MySQL server using a MySQLConnection object.\n",
    "cur = cnx.cursor()\n",
    "\n",
    "#Pull out a table\n",
    "customers = df_with_headers(cur, \"table_name\")"
   ]
  },
  {
   "cell_type": "code",
   "execution_count": null,
   "metadata": {
    "collapsed": true
   },
   "outputs": [],
   "source": [
    "#Remember to close cursor and database connection when done\n",
    "# done with cursor\n",
    "cur.close()             \n",
    "\n",
    "# done with database\n",
    "cnx.close()"
   ]
  }
 ],
 "metadata": {
  "anaconda-cloud": {},
  "kernelspec": {
   "display_name": "Python [conda env:my_projects_env]",
   "language": "python",
   "name": "conda-env-my_projects_env-py"
  },
  "language_info": {
   "codemirror_mode": {
    "name": "ipython",
    "version": 2
   },
   "file_extension": ".py",
   "mimetype": "text/x-python",
   "name": "python",
   "nbconvert_exporter": "python",
   "pygments_lexer": "ipython2",
   "version": "2.7.12"
  }
 },
 "nbformat": 4,
 "nbformat_minor": 1
}
